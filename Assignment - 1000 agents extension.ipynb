{
 "cells": [
  {
   "cell_type": "markdown",
   "metadata": {},
   "source": [
    "# Python project extension - 1000 agents"
   ]
  },
  {
   "cell_type": "markdown",
   "metadata": {},
   "source": [
    "Name: Lukas Buhmann\n",
    "\n",
    "ANR: 111321\n",
    "\n",
    "SNR: 2008214"
   ]
  },
  {
   "cell_type": "markdown",
   "metadata": {},
   "source": [
    "The code is the same as in the \"assignment\" script. The model solution is structured analogously. The solutions for the <a href='#scenario1'>baseline regime</a>, the <a href='#scenario2'>good state regime</a> and the <a href='#scenario2'>bad state regime</a> can be found with the previous links. Further properties of the model calibrations can be found <a href='#solving'>here</a>."
   ]
  },
  {
   "cell_type": "code",
   "execution_count": 37,
   "metadata": {
    "collapsed": true
   },
   "outputs": [],
   "source": [
    "import scipy as sc\n",
    "from scipy import optimize\n",
    "import numpy as np\n",
    "import matplotlib.pyplot as plt\n",
    "from __future__ import division"
   ]
  },
  {
   "cell_type": "code",
   "execution_count": 38,
   "metadata": {
    "collapsed": true
   },
   "outputs": [],
   "source": [
    "def optimal_bequest(inc):\n",
    "    y = a * inc\n",
    "    return y "
   ]
  },
  {
   "cell_type": "code",
   "execution_count": 39,
   "metadata": {
    "collapsed": true
   },
   "outputs": [],
   "source": [
    "def Profit(talent, capital, wage):\n",
    "    p = (1- beta)*(talent * capital**alpha)**(1/(1-beta)) * (beta/wage)**(beta/(1-beta)) \n",
    "    return p"
   ]
  },
  {
   "cell_type": "code",
   "execution_count": 40,
   "metadata": {
    "collapsed": true
   },
   "outputs": [],
   "source": [
    "def a_opt(talent, wage, interest_rate):\n",
    "    p = (talent*(beta/wage)**beta * (alpha/(1 + interest_rate))**(1-beta))**(1/(1-alpha-beta))\n",
    "    return p\n",
    "\n",
    "def n_opt(talent, wage, cap_opt):\n",
    "    p = ((beta*talent*cap_opt**alpha)/wage)**(1/(1-beta))\n",
    "    return p "
   ]
  },
  {
   "cell_type": "code",
   "execution_count": 41,
   "metadata": {
    "collapsed": true
   },
   "outputs": [],
   "source": [
    "def profit_unconstrained(talent, capital, wage, interest_rate):\n",
    "    p = (1- beta)*((talent *  capital**alpha)**(1/(1-beta))) * ((beta/wage)**(beta/(1-beta))) - (1+ interest_rate)*capital\n",
    "    return p\n",
    "\n",
    "def optimal_capital_unconstrained(talent,  wage, interest_rate):\n",
    "    q1 =  sc.optimize.fminbound(lambda capital: -profit_unconstrained(talent, capital, wage, interest_rate),0,1000)\n",
    "    return q1\n",
    "\n",
    "def optimal_profit_unconstrained(talent,  wage, interest_rate):\n",
    "    p = (1- beta)*(talent * optimal_capital_unconstrained(talent, wage, interest_rate)**alpha)**(1/(1-beta)) * (beta/wage)**(beta/(1-beta)) - (1+ interest_rate)*optimal_capital_unconstrained(talent, wage, interest_rate)\n",
    "    return p"
   ]
  },
  {
   "cell_type": "code",
   "execution_count": 42,
   "metadata": {
    "collapsed": true,
    "scrolled": true
   },
   "outputs": [],
   "source": [
    "def Profit_constrained(cap, talent, wage, interest_rate):\n",
    "    p = (1- beta) * (talent * (cap[0]+cap[1])**alpha)**(1/(1-beta)) * (beta/wage)**(beta/(1-beta)) - (1+interest_rate)*cap[0] - (1+interest_rate+tau)*cap[1]\n",
    "    return p\n",
    "\n",
    "\n",
    "def optimal_capital_constrained(bequest, talent, wage, interest_rate):\n",
    "    \n",
    "    def cons1(cap, bequest):\n",
    "            p = bequest - cap[0] -  0*cap[1]\n",
    "            return p \n",
    "\n",
    "    def cons2(cap, talent, wage, interest_rate):\n",
    "            p = phi*Profit_constrained(cap, talent, wage, interest_rate) - (1+interest_rate+tau)*cap[1]\n",
    "            return p\n",
    "    \n",
    "    cons = ({'type': 'ineq', 'fun': lambda cap: cons1(cap,bequest)}, \n",
    "            {'type': 'ineq', 'fun': lambda cap: np.array([cons2(cap, talent, wage, interest_rate)])})\n",
    " \n",
    "    bnds = ((0, 100), (0, 100))\n",
    " \n",
    "    res =  sc.optimize.minimize(lambda cap: -Profit_constrained(cap,talent,wage,interest_rate),\n",
    "                                x0 = [2,2],\n",
    "                                constraints=cons, \n",
    "                                method='SLSQP',bounds = bnds)\n",
    "    return res.x\n",
    "\n",
    "def optimal_profit_constrained(bequest,talent, wage, interest_rate): \n",
    "    return Profit_constrained(optimal_capital_constrained(bequest, talent, wage, interest_rate),talent,wage,interest_rate)\n",
    "\n"
   ]
  },
  {
   "cell_type": "code",
   "execution_count": 43,
   "metadata": {
    "collapsed": true,
    "scrolled": false
   },
   "outputs": [],
   "source": [
    "def program_loop(bequests,talents,wage,interest_rate):\n",
    "    income = np.array([])\n",
    "    ent_unc_indicator = np.array([])\n",
    "    ent_con_indicator = np.array([])\n",
    "    wor_indicator = np.array([])\n",
    "    ent_indicator = np.ones(len(bequests))\n",
    "    for i in range(len(talents)):\n",
    "        if bequests[i] >= a_opt(talents[i] , wage, interest_rate):\n",
    "            income = np.append(income, optimal_profit_unconstrained(talents[i],wage,interest_rate))\n",
    "            ent_unc_indicator = np.append(ent_unc_indicator,1)\n",
    "            wor_indicator = np.append(wor_indicator,0)\n",
    "            ent_con_indicator = np.append(ent_con_indicator,0)\n",
    "            ent_indicator[i] = 1\n",
    "        else:\n",
    "            income = np.append(income, optimal_profit_constrained(bequests[i],talents[i],wage,interest_rate))\n",
    "            ent_unc_indicator = np.append(ent_unc_indicator,0)\n",
    "            wor_indicator = np.append(wor_indicator,0)\n",
    "            ent_con_indicator = np.append(ent_con_indicator,1)\n",
    "            ent_indicator[i] = 1\n",
    "    for i in range(len(talents)):\n",
    "        if income[i] < wage:\n",
    "            income[i] = wage\n",
    "            ent_con_indicator[i] = 0\n",
    "            ent_unc_indicator[i] = 0\n",
    "            wor_indicator[i] = 1\n",
    "            ent_indicator[i] = 0\n",
    "    return income, ent_unc_indicator, wor_indicator, ent_con_indicator, ent_indicator"
   ]
  },
  {
   "cell_type": "code",
   "execution_count": 44,
   "metadata": {
    "collapsed": true
   },
   "outputs": [],
   "source": [
    "def labor_marketclearing(bequests,talents, wage, interest_rate,ent_indicator_1, wor_indicator_1):\n",
    "    labor_clearing = []\n",
    "    for i in range(len(talents)):\n",
    "        if ent_indicator_1[i] == 1:\n",
    "                p = -n_opt(talents[i], wage, sum(optimal_capital_constrained(bequests[i],talents[i],wage, interest_rate)))\n",
    "                labor_clearing.append(p)\n",
    "        elif wor_indicator_1[i] ==1:\n",
    "                p = 1\n",
    "                labor_clearing.append(p)\n",
    "    return sum(labor_clearing)\n",
    "\n",
    "def cap_marketclearing(bequests, talents, wage, interest_rate,ent_indicator_1, wor_indicator_1):\n",
    "    capital_clearing = []\n",
    "    for i in range(len(talents)):\n",
    "        if ent_indicator_1[i] == 1:\n",
    "                p = bequests[i] - sum(optimal_capital_constrained(bequests[i],talents[i],wage, interest_rate))\n",
    "                capital_clearing.append(p)\n",
    "        elif wor_indicator_1[i] ==1:\n",
    "                p = bequests[i]\n",
    "                capital_clearing.append(p)\n",
    "    return sum(capital_clearing)\n",
    "\n",
    "\n",
    "def func(prices,bequests, talents, ent_indicator_1, wor_indicator_1):\n",
    "    \n",
    "    wage = prices[0]\n",
    "    interest_rate = prices[1]\n",
    "    \n",
    "    F = np.empty(2)\n",
    "    F[0] = labor_marketclearing(bequests, talents, wage, interest_rate, ent_indicator_1, wor_indicator_1)\n",
    "    F[1] = cap_marketclearing(bequests, talents, wage, interest_rate, ent_indicator_1, wor_indicator_1)\n",
    "    return F\n",
    "\n",
    "def clear_all(prices,bequests, talents, ent_indicator_1, wor_indicator_1): \n",
    "    \n",
    "    res = sc.optimize.root(func, args = (bequests,talents, ent_indicator_1, wor_indicator_1) , method = 'lm',tol=0.00002,x0 = (0.1,0.2))\n",
    "    return res.x\n",
    "\n",
    "def avfunc(prices,bequests, talents, ent_indicator_1, wor_indicator_1):\n",
    "    \n",
    "    wage = prices[0]\n",
    "    interest_rate = prices[1]\n",
    "    \n",
    "    F = np.empty(2)\n",
    "    F[0] = labor_marketclearing(bequests, talents, wage, interest_rate, ent_indicator_1, wor_indicator_1)/sum(wor_indicator_1)\n",
    "    F[1] = cap_marketclearing(bequests, talents, wage, interest_rate, ent_indicator_1, wor_indicator_1)/sum(bequests)\n",
    "    return F\n",
    " \n",
    "\n",
    "def converge(prices,bequests,talents, new_prices,avlabor,avcapital,ent_indicator_1, wor_indicator_1):\n",
    "    \n",
    "    wage = prices[0]\n",
    "    interest_rate = prices[1]\n",
    "    w = new_prices[0]\n",
    "    r = new_prices[1]\n",
    "    \n",
    "    p = np.empty(2)\n",
    "    p[0] = (w - wage)/avlabor\n",
    "    p[1] = (r - interest_rate)/avcapital\n",
    "    \n",
    "    return p"
   ]
  },
  {
   "cell_type": "code",
   "execution_count": 45,
   "metadata": {
    "collapsed": true
   },
   "outputs": [],
   "source": [
    "def generate_income(income,bequests,interest_rate):\n",
    "        new_income = np.array([])\n",
    "        for i in xrange(number_agents):\n",
    "            new_income = np.append(new_income, income[i] + (1+interest_rate)*bequests[i])       \n",
    "        return new_income   \n",
    "    \n",
    "def generate_bequest(income):\n",
    "        new_bequest = np.array([])\n",
    "        for i in xrange(number_agents):\n",
    "            new_bequest = np.append(new_bequest, optimal_bequest(income[i]))   \n",
    "        return new_bequest"
   ]
  },
  {
   "cell_type": "markdown",
   "metadata": {},
   "source": [
    "# Solving the model - 1000 agents <a id='solving'></a>"
   ]
  },
  {
   "cell_type": "markdown",
   "metadata": {},
   "source": [
    "I now construct and solve the model by means of the functions I created above. The function \"simulation\" which can be found below establishes a dynamic loop over the different steps programmed in the previous steps. For a better understanding, I annotated the code. The loop ends if an ex-ante defined condition is found to be true. That is, two subsequent wage rates and two subsequent interest rates must not deviate from each other by more than $1 \\%$. This I define to be the steady state of the model. Additionally, there might be the case that the algorithm does not stop due to the first criterium. In this case, I define the state of the model reached after $40$ periods of time to be a good approximation for the steady state.\n",
    "\n",
    "The talents are drawn from a cumulative exponential distribution of the form $F(x) = x^{\\frac{1}{4.422}}$. As an initial bequest distribution, I choose a uniform distribution with $0.05$ units of initial capital endowment for each agent. This I do because otherwise, the high number of agents inflates the overall sum of bequests in the first periods, which leads to convergence problems.\n",
    "\n",
    "\n",
    "The initial wage $w_0$ and initial interest rate $r_0$ are chosen to be $0.3$. \n"
   ]
  },
  {
   "cell_type": "code",
   "execution_count": 46,
   "metadata": {
    "collapsed": true
   },
   "outputs": [],
   "source": [
    "def simulation(number_agents,w0,r0,b0=0.05, tol = 0.01, max_t_loops=40):\n",
    "    \n",
    "    #initialization of variables\n",
    "    \n",
    "    \n",
    "\n",
    "    w = np.zeros(max_t_loops+1)\n",
    "    r = np.zeros(max_t_loops+1)\n",
    "    wstar = np.zeros(max_t_loops)\n",
    "    rstar = np.zeros(max_t_loops)\n",
    "\n",
    "    income_1  = np.zeros(shape = (max_t_loops,number_agents))\n",
    "    ent_unc_indicator_1 = np.zeros(shape = (max_t_loops,number_agents))\n",
    "    wor_indicator_1 = np.zeros(shape = (max_t_loops,number_agents))\n",
    "    ent_con_indicator_1 = np.zeros(shape = (max_t_loops,number_agents))\n",
    "    ent_indicator_1 = np.zeros(shape = (max_t_loops,number_agents))\n",
    "    \n",
    "    ndincome =  np.zeros(shape = (max_t_loops,number_agents))\n",
    "    ndtalents = np.zeros(shape = (max_t_loops,number_agents))\n",
    "    ndbequests = np.zeros(shape = (max_t_loops+1,number_agents))\n",
    "    entind = np.zeros(max_t_loops) \n",
    "\n",
    "    \n",
    "    #Loop the program over time\n",
    "\n",
    "    t=1\n",
    "    while True: \n",
    "        print t\n",
    "        \n",
    "        #Determine talent dist. per period\n",
    "        ndtalents[t,:]=np.random.power(1/4.422,number_agents)\n",
    "        #determine initial bequest dist.\n",
    "        ndbequests[1,:].fill(b0)\n",
    "        #determine initial wage and ir\n",
    "        w[1] = w0\n",
    "        r[1] = r0\n",
    "\n",
    "        #occupational choice\n",
    "        [income_1[t,:], ent_unc_indicator_1[t,:], wor_indicator_1[t,:],\n",
    "        ent_con_indicator_1[t,:], ent_indicator_1[t,:]] = program_loop(ndbequests[t,:], ndtalents[t,:],w[t],r[t])\n",
    "        \n",
    "        #find root of the labor and capital market clearing function\n",
    "        wstar[t], rstar[t] = clear_all([w[t], r[t]],ndbequests[t,:], ndtalents[t,:], ent_indicator_1[t,:], wor_indicator_1[t,:])\n",
    "        \n",
    "        #smooth the time paths of wage and interest rate\n",
    "        excess = np.ndarray(shape = (1, 2))\n",
    "        excess = avfunc([w[t],r[t]], ndbequests[t,:],ndtalents[t,:], ent_indicator_1[t,:], wor_indicator_1[t,:])\n",
    "\n",
    "        conv = np.ndarray(shape = (1, 2))\n",
    "        conv = converge([w[t],r[t]],ndbequests[t,:], ndtalents[t,:], [wstar[t], rstar[t]],excess[0],excess[1], ent_indicator_1[t,:], wor_indicator_1[t,:])\n",
    "\n",
    "        w[t+1] = w[t] + sigma* conv[0]*excess[0]\n",
    "\n",
    "        r[t+1] = r[t] + sigma* conv[1]*excess[1]\n",
    "        \n",
    "        #generate agents' income\n",
    "        ndincome[t,:] = generate_income(income_1[t,:],ndbequests[t,:],r[t])\n",
    "        \n",
    "        #generate next period's bequest distribution\n",
    "        ndbequests[t+1,:] = generate_bequest(ndincome[t,:])\n",
    "        \n",
    "        #determine share of enterpreneurs\n",
    "        entind[t]=sum(ent_indicator_1[t,:])/number_agents\n",
    "        \n",
    "        #stop loop condition\n",
    "        if abs((w[t+1]-w[t])/w[t])< tol and abs((r[t+1]-r[t])/r[t]) < tol:\n",
    "            print 'break'\n",
    "            print t\n",
    "            break\n",
    "            \n",
    "        if t == max_t_loops - 1:\n",
    "            break\n",
    "            \n",
    "        if r[t+1]>10:\n",
    "            print 'non-convergence'\n",
    "            break\n",
    "\n",
    "        t+=1\n",
    "\n",
    "    #determine final loop number\n",
    "    nn=np.sum(w>0)\n",
    "    nn=nn+1\n",
    "    \n",
    "    #adjust the variables to final loop number\n",
    "    w = w[:nn]\n",
    "    r = r[:nn]\n",
    "    \n",
    "\n",
    "    ndincome = ndincome[:nn,:]\n",
    "    ndtalents = ndtalents[:nn,:]\n",
    "    ndbequests = ndbequests[:nn,:]\n",
    "\n",
    "    return w, r,ndincome,ndbequests,entind,nn, wstar, rstar, income_1, ent_unc_indicator_1, wor_indicator_1, ent_con_indicator_1, ent_indicator_1"
   ]
  },
  {
   "cell_type": "markdown",
   "metadata": {},
   "source": [
    "## Baseline scenario - Calibration <a id='scenario1'></a>"
   ]
  },
  {
   "cell_type": "markdown",
   "metadata": {},
   "source": [
    "The next window shows the parameter calibration I use for the baseline scenario analogous to the calibration of Antunes et al. (2008b):\n",
    "\n",
    "$$ a = (1-  \\gamma ) = 0.06 $$ \n",
    "$$b = \\gamma = 0.94 $$\n",
    "$$beta = \\beta = 0.55$$\n",
    "$$alpha = \\alpha = 0.35$$ \n",
    "$$phi = \\phi = 0.26$$ \n",
    "$$tau = \\tau = 0.005 $$ \n",
    "\n",
    " \n",
    "\n",
    " \n",
    "\n",
    "  \n",
    "\n",
    "\n",
    "Additionally, I choose $\\sigma = 0.2 $. All parameter values except for $\\tau$ and $\\phi$ stay the same across all scenarios. In this script, I calibrate the model with 1000 agents. \n"
   ]
  },
  {
   "cell_type": "code",
   "execution_count": 47,
   "metadata": {
    "collapsed": true
   },
   "outputs": [],
   "source": [
    "phi = 0.26\n",
    "tau = 0.005\n",
    "a = 0.06\n",
    "\n",
    "beta = 0.55\n",
    "alpha = 0.35\n",
    "\n",
    "sigma = 0.2"
   ]
  },
  {
   "cell_type": "code",
   "execution_count": 31,
   "metadata": {},
   "outputs": [
    {
     "name": "stdout",
     "output_type": "stream",
     "text": [
      "1\n",
      "2\n",
      "3\n",
      "4\n",
      "5\n",
      "6\n",
      "7\n",
      "8\n"
     ]
    },
    {
     "name": "stderr",
     "output_type": "stream",
     "text": [
      "C:\\Users\\Lukas\\Anaconda2\\lib\\site-packages\\ipykernel_launcher.py:2: RuntimeWarning: invalid value encountered in double_scalars\n",
      "  \n",
      "C:\\Users\\Lukas\\Anaconda2\\lib\\site-packages\\ipykernel_launcher.py:6: RuntimeWarning: invalid value encountered in double_scalars\n",
      "  \n"
     ]
    },
    {
     "name": "stdout",
     "output_type": "stream",
     "text": [
      "9\n",
      "10\n",
      "11\n",
      "12\n",
      "13\n",
      "14\n",
      "15\n",
      "16\n",
      "17\n",
      "18\n",
      "19\n",
      "20\n",
      "21\n",
      "22\n",
      "23\n",
      "24\n",
      "25\n",
      "break\n",
      "25\n"
     ]
    }
   ],
   "source": [
    "number_agents = 1000\n",
    "w0=0.3\n",
    "r0=0.3\n",
    "w, r,ndincome,ndbequests,entind,nn, wstar, rstar, income_1, ent_unc_indicator_1, wor_indicator_1, ent_con_indicator_1, ent_indicator_1 = simulation(number_agents,w0,r0)"
   ]
  },
  {
   "cell_type": "code",
   "execution_count": 32,
   "metadata": {},
   "outputs": [
    {
     "data": {
      "image/png": "[encoded data removed]",
      "text/plain": [
       "<matplotlib.figure.Figure at 0xf2f9048>"
      ]
     },
     "metadata": {},
     "output_type": "display_data"
    },
    {
     "name": "stdout",
     "output_type": "stream",
     "text": [
      "the steady state interest rate is: 0.68014604643\n",
      "the steady wage is: 0.0688088211929\n",
      "the share of enterpreneurs is :  0.094 for period 24 and 0.088 for period 25\n"
     ]
    },
    {
     "data": {
      "image/png": "[encoded data removed]",
      "text/plain": [
       "<matplotlib.figure.Figure at 0xd4950b8>"
      ]
     },
     "metadata": {},
     "output_type": "display_data"
    },
    {
     "data": {
      "image/png": "[encoded data removed]",
      "text/plain": [
       "<matplotlib.figure.Figure at 0xd495908>"
      ]
     },
     "metadata": {},
     "output_type": "display_data"
    },
    {
     "data": {
      "image/png": "[encoded data removed]",
      "text/plain": [
       "<matplotlib.figure.Figure at 0xf108780>"
      ]
     },
     "metadata": {},
     "output_type": "display_data"
    },
    {
     "name": "stdout",
     "output_type": "stream",
     "text": [
      "the steady state sum over all bequests is:  6.55592236994\n"
     ]
    }
   ],
   "source": [
    "plt.plot(r)\n",
    "axes = plt.gca()\n",
    "plt.ylabel('interest rate')\n",
    "plt.xlabel('time')\n",
    "axes.set_ylim([0,1])\n",
    "axes.set_xlim([1,nn-1])\n",
    "plt.show()\n",
    "\n",
    "print \"the steady state interest rate is:\", r[nn-1]\n",
    "print \"the steady wage is:\", w[nn-1]\n",
    "\n",
    "print 'the share of enterpreneurs is : ',  entind3[nn3-3], 'for period', nn-3 , 'and', entind3[nn3-2], 'for period', nn-2 \n",
    "\n",
    "plt.plot(w)\n",
    "axes = plt.gca()\n",
    "plt.ylabel('wage')\n",
    "plt.xlabel('time')\n",
    "axes.set_ylim([0,1])\n",
    "axes.set_xlim([1,nn-1])\n",
    "plt.show()\n",
    "\n",
    "\n",
    "plt.hist(ndbequests[len(w)-1,:])\n",
    "plt.ylabel('number of agents')\n",
    "plt.xlabel('amount of bequest')\n",
    "axes.set_xlim([1,5])\n",
    "plt.show()\n",
    "\n",
    "sumbequests = []\n",
    "for i in xrange(len(ndbequests)):\n",
    "    \n",
    "    p = sum(ndbequests[i,:])\n",
    "    sumbequests.append(p)\n",
    " \n",
    "plt.plot(sumbequests)\n",
    "plt.ylabel('sum of bequests')\n",
    "plt.xlabel('time')\n",
    "axes = plt.gca()\n",
    "axes.set_ylim([-1,100])\n",
    "plt.show()\n",
    "\n",
    "print 'the steady state sum over all bequests is: ', sumbequests[nn-1]"
   ]
  },
  {
   "cell_type": "markdown",
   "metadata": {
    "collapsed": true
   },
   "source": [
    "# Solving the model: Better financial system scenario <a id='scenario2'></a>"
   ]
  },
  {
   "cell_type": "markdown",
   "metadata": {},
   "source": [
    "In this calibration, the financial frictions are relaxed. The new financial frictions parameters are:\n",
    "$$ \\phi = 2 \\times \\phi_{baseline}$$\n",
    "\n",
    "$$\\tau = \\frac{1}{2} \\times \\tau_{baseline} $$"
   ]
  },
  {
   "cell_type": "code",
   "execution_count": 34,
   "metadata": {
    "collapsed": true
   },
   "outputs": [],
   "source": [
    "phi = 0.52\n",
    "tau = 0.0025"
   ]
  },
  {
   "cell_type": "code",
   "execution_count": 35,
   "metadata": {},
   "outputs": [
    {
     "name": "stdout",
     "output_type": "stream",
     "text": [
      "1\n",
      "2\n",
      "3\n",
      "4\n",
      "5\n",
      "6\n",
      "7\n",
      "8\n",
      "9\n",
      "10\n",
      "11\n",
      "12\n",
      "13\n",
      "14\n",
      "15\n",
      "16\n",
      "17\n",
      "18\n",
      "19\n",
      "20\n",
      "21\n",
      "22\n",
      "23\n",
      "24\n",
      "25\n",
      "26\n",
      "27\n",
      "28\n",
      "29\n",
      "30\n",
      "31\n",
      "break\n",
      "31\n"
     ]
    }
   ],
   "source": [
    "number_agents = 1000\n",
    "w0=0.3\n",
    "r0=0.3\n",
    "w2, r2,ndincome2,ndbequests2,entind2, nn2, wstar2, rstar2, income_2, ent_unc_indicator_2, wor_indicator_2, ent_con_indicator_2, ent_indicator_2 = simulation(number_agents,w0,r0, tol =0.01, max_t_loops=40)"
   ]
  },
  {
   "cell_type": "code",
   "execution_count": 53,
   "metadata": {},
   "outputs": [
    {
     "data": {
      "image/png": "[encoded data removed]",
      "text/plain": [
       "<matplotlib.figure.Figure at 0x10075438>"
      ]
     },
     "metadata": {},
     "output_type": "display_data"
    },
    {
     "name": "stdout",
     "output_type": "stream",
     "text": [
      "the steady state interest rate is: 1.68348736054\n",
      "the steady wage is: 0.0674897524349\n",
      "the share of enterpreneurs is :  0.082 for period 30 and 0.074 for period 31\n"
     ]
    },
    {
     "data": {
      "image/png": "[encoded data removed]",
      "text/plain": [
       "<matplotlib.figure.Figure at 0xf3ea710>"
      ]
     },
     "metadata": {},
     "output_type": "display_data"
    },
    {
     "data": {
      "image/png": "[encoded data removed]",
      "text/plain": [
       "<matplotlib.figure.Figure at 0x10accd30>"
      ]
     },
     "metadata": {},
     "output_type": "display_data"
    },
    {
     "data": {
      "image/png": "[encoded data removed]",
      "text/plain": [
       "<matplotlib.figure.Figure at 0xf3f1c50>"
      ]
     },
     "metadata": {},
     "output_type": "display_data"
    },
    {
     "name": "stdout",
     "output_type": "stream",
     "text": [
      "the steady state sum over all bequests is:  6.87571448014\n"
     ]
    }
   ],
   "source": [
    "plt.plot(r2)\n",
    "axes = plt.gca()\n",
    "plt.ylabel('interest rate')\n",
    "plt.xlabel('time')\n",
    "axes.set_ylim([0,1.8])\n",
    "axes.set_xlim([1,nn2-1])\n",
    "plt.show()\n",
    "\n",
    "print \"the steady state interest rate is:\", r2[nn2-1]\n",
    "print \"the steady wage is:\", w2[nn2-1]\n",
    "\n",
    "print 'the share of enterpreneurs is : ',  entind2[nn2-3], 'for period', nn2-3 , 'and', entind2[nn2-2], 'for period', nn2-2 \n",
    "\n",
    "plt.plot(w2)\n",
    "axes = plt.gca()\n",
    "plt.ylabel('wage')\n",
    "plt.xlabel('time')\n",
    "axes.set_ylim([0,1])\n",
    "axes.set_xlim([1,nn2-1])\n",
    "plt.show()\n",
    "\n",
    "\n",
    "plt.hist(ndbequests2[len(w2)-1,:])\n",
    "plt.ylabel('number of agents')\n",
    "plt.xlabel('amount of bequest')\n",
    "axes.set_xlim([1,5])\n",
    "plt.show()\n",
    "\n",
    "sumbequests = []\n",
    "for i in xrange(len(ndbequests2)):\n",
    "    \n",
    "    p = sum(ndbequests2[i,:])\n",
    "    sumbequests.append(p)\n",
    " \n",
    "plt.plot(sumbequests)\n",
    "axes = plt.gca()\n",
    "plt.ylabel('sum of bequests')\n",
    "plt.xlabel('time')\n",
    "axes.set_ylim([-1,100])\n",
    "plt.show()\n",
    "\n",
    "print 'the steady state sum over all bequests is: ', sumbequests[nn2-1]"
   ]
  },
  {
   "cell_type": "markdown",
   "metadata": {
    "collapsed": true
   },
   "source": [
    "# The bad scenario <a id='scenario3'></a>"
   ]
  },
  {
   "cell_type": "markdown",
   "metadata": {},
   "source": [
    "In this scenario, financial frictions are tightened. The new financial frictions parameters are:\n",
    "    \n",
    "$$ \\phi = \\frac{1}{2} \\times \\phi_{baseline}$$\n",
    "\n",
    "$$\\tau = 2 \\times \\tau_{baseline} $$\n",
    "\n",
    "As I know from previous executions that $w_{steady state} \\approx 0.07 $ and $r_{steady state} \\approx -0.01$ I choose $w_0 = r_0 = 0.05 $. This drastically reduces computation time."
   ]
  },
  {
   "cell_type": "code",
   "execution_count": 62,
   "metadata": {
    "collapsed": true
   },
   "outputs": [],
   "source": [
    "phi = 0.13\n",
    "tau = 0.01"
   ]
  },
  {
   "cell_type": "code",
   "execution_count": 65,
   "metadata": {},
   "outputs": [
    {
     "name": "stdout",
     "output_type": "stream",
     "text": [
      "1\n",
      "2\n",
      "3\n"
     ]
    },
    {
     "name": "stderr",
     "output_type": "stream",
     "text": [
      "C:\\Users\\Lukas\\Anaconda2\\lib\\site-packages\\ipykernel_launcher.py:2: RuntimeWarning: invalid value encountered in double_scalars\n",
      "  \n",
      "C:\\Users\\Lukas\\Anaconda2\\lib\\site-packages\\ipykernel_launcher.py:6: RuntimeWarning: invalid value encountered in double_scalars\n",
      "  \n"
     ]
    },
    {
     "name": "stdout",
     "output_type": "stream",
     "text": [
      "4\n",
      "5\n",
      "6\n",
      "7\n",
      "8\n",
      "9\n",
      "10\n",
      "11\n",
      "12\n",
      "13\n",
      "14\n",
      "15\n",
      "16\n",
      "17\n",
      "18\n",
      "19\n",
      "20\n",
      "21\n",
      "22\n",
      "23\n",
      "24\n",
      "25\n",
      "26\n",
      "27\n",
      "28\n",
      "29\n",
      "30\n",
      "31\n",
      "32\n",
      "33\n",
      "34\n",
      "35\n",
      "36\n",
      "37\n",
      "38\n",
      "39\n"
     ]
    }
   ],
   "source": [
    "number_agents = 1000\n",
    "w0=0.05\n",
    "r0=0.05\n",
    "w3, r3,ndincome3,ndbequests3,entind3, nn3, wstar3, rstar3, income_3, ent_unc_indicator_3, wor_indicator_3, ent_con_indicator_3, ent_indicator_3 = simulation(number_agents,w0,r0, tol = 0.01)"
   ]
  },
  {
   "cell_type": "code",
   "execution_count": 69,
   "metadata": {
    "scrolled": true
   },
   "outputs": [
    {
     "data": {
      "image/png": "[encoded data removed]",
      "text/plain": [
       "<matplotlib.figure.Figure at 0xcd599e8>"
      ]
     },
     "metadata": {},
     "output_type": "display_data"
    },
    {
     "name": "stdout",
     "output_type": "stream",
     "text": [
      "the steady state interest rate is: -0.122934109777\n",
      "the steady wage is: 0.0691215356991\n",
      "the share of enterpreneurs is :  0.092 for period 38 and 0.081 for period 39\n"
     ]
    },
    {
     "data": {
      "image/png": "[encoded data removed]",
      "text/plain": [
       "<matplotlib.figure.Figure at 0xdf41128>"
      ]
     },
     "metadata": {},
     "output_type": "display_data"
    },
    {
     "data": {
      "image/png": "[encoded data removed]",
      "text/plain": [
       "<matplotlib.figure.Figure at 0xcd6ff60>"
      ]
     },
     "metadata": {},
     "output_type": "display_data"
    },
    {
     "data": {
      "image/png": "[encoded data removed]",
      "text/plain": [
       "<matplotlib.figure.Figure at 0xe1ace80>"
      ]
     },
     "metadata": {},
     "output_type": "display_data"
    },
    {
     "name": "stdout",
     "output_type": "stream",
     "text": [
      "the steady state sum over all bequests is:  6.3771724313\n"
     ]
    }
   ],
   "source": [
    "plt.plot(r3)\n",
    "axes = plt.gca()\n",
    "plt.ylabel('interest rate')\n",
    "plt.xlabel('time')\n",
    "axes.set_ylim([-0.2,1])\n",
    "axes.set_xlim([1,nn3-1])\n",
    "plt.show()\n",
    "\n",
    "print \"the steady state interest rate is:\", r3[nn3-1]\n",
    "print \"the steady wage is:\", w3[nn3-1]\n",
    "\n",
    "print 'the share of enterpreneurs is : ', entind3[nn3-3], 'for period', nn3-3 , 'and', entind3[nn3-2], 'for period', nn3-2 \n",
    "\n",
    "plt.plot(w3)\n",
    "axes = plt.gca()\n",
    "plt.ylabel('wage')\n",
    "plt.xlabel('time')\n",
    "axes.set_ylim([0,1])\n",
    "axes.set_xlim([1,nn3-1])\n",
    "plt.show()\n",
    "\n",
    "\n",
    "plt.hist(ndbequests3[len(w3)-1,:])\n",
    "plt.ylabel('number of agents')\n",
    "plt.xlabel('amount of bequest')\n",
    "axes.set_xlim([1,5])\n",
    "plt.show()\n",
    "\n",
    "sumbequests = []\n",
    "for i in xrange(len(ndbequests3)):\n",
    "    \n",
    "    p = sum(ndbequests3[i,:])\n",
    "    sumbequests.append(p)\n",
    " \n",
    "plt.plot(sumbequests)\n",
    "axes = plt.gca()\n",
    "plt.ylabel('sum of bequests')\n",
    "plt.xlabel('time')\n",
    "axes.set_ylim([-1,100])\n",
    "plt.show()\n",
    "\n",
    "print 'the steady state sum over all bequests is: ', sumbequests[nn3-1]"
   ]
  },
  {
   "cell_type": "markdown",
   "metadata": {},
   "source": [
    "## Results"
   ]
  },
  {
   "cell_type": "markdown",
   "metadata": {},
   "source": [
    "- The wage and interest rate dynamics are analogous to those in the \"assignment\" script\n",
    "\n",
    "- Bequest distribution seems to be very similar across regimes.\n",
    "\n",
    "- Sum over all bequests is lowest in the bad regime, and highest for the good regime (in line with expectations).\n",
    "\n",
    "- Model dynamics seem to be smoother than in the 500 agents case\n",
    "\n",
    "- the steady state definition leads to problems in the bad scenario, as the steady state cannot be identified in most code executions.\n",
    "\n",
    "\n",
    "\n",
    "\n"
   ]
  },
  {
   "cell_type": "markdown",
   "metadata": {},
   "source": [
    "## References <a id='references'></a>"
   ]
  },
  {
   "cell_type": "markdown",
   "metadata": {},
   "source": [
    "[1] Antunes, A., Cavalcanti, T., & Villamil, A. (2008). Computing general equilibrium models with occupational choice and financial frictions. Journal of Mathematical Economics, 44(7), 553-568.\n",
    "\n",
    "[2] Antunes, A., Cavalcanti, T., & Villamil, A. (2008). The effect of financial repression and enforcement on entrepreneurship and economic development. Journal of Monetary Economics, 55(2), 278-297."
   ]
  }
 ],
 "metadata": {
  "kernelspec": {
   "display_name": "Python 2",
   "language": "python",
   "name": "python2"
  },
  "language_info": {
   "codemirror_mode": {
    "name": "ipython",
    "version": 2
   },
   "file_extension": ".py",
   "mimetype": "text/x-python",
   "name": "python",
   "nbconvert_exporter": "python",
   "pygments_lexer": "ipython2",
   "version": "2.7.13"
  }
 },
 "nbformat": 4,
 "nbformat_minor": 2
}
