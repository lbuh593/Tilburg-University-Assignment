{
 "cells": [
  {
   "cell_type": "markdown",
   "metadata": {},
   "source": [
    "# Applied economic analysis - Python project"
   ]
  },
  {
   "cell_type": "markdown",
   "metadata": {},
   "source": [
    "Name: Lukas Buhmann\n",
    "\n",
    "ANR: 111321\n",
    "\n",
    "SNR: 2008214"
   ]
  },
  {
   "cell_type": "markdown",
   "metadata": {},
   "source": [
    "This project work is a numerical simulation of a dynamic general equilibrium model in line with the model setup presented by Antunes, Cavalcanti and Villami in their paper \"<a href='#references'> Computing general equilibrium models with occupational choice and ﬁnancial frictions</a>\" from 2008 (In the following: Antunes et al 2008a). My analysis is based on the calibration of the paper \"<a href='#references'>The effect of financial repression and enforcement on entrepreneurship and economic development</a>\" from 2008 (In the following: Antunes et al 2008b) , written by the same authors mentioned above. "
   ]
  },
  {
   "cell_type": "markdown",
   "metadata": {},
   "source": [
    "## The model"
   ]
  },
  {
   "cell_type": "markdown",
   "metadata": {},
   "source": [
    "The model consists of a <a href='#Utility maximization problem'>utility maximization problem</a>, an <a href='#Enterpreneural optimization problem'>enterpreneural profit optimization problem</a>, an <a href='#Occupational choice'>occupational choice problem</a> and a <a href='#Market clearing conditions'>market clearing problem</a>: Consider a number $n$ of economic agents with the same utility function that are heterogeuous in the amount of bequest they get from  the previous generation and their enterpreneural talent. In each period in time, given an amount of bequest $b_t$ and a talent variable $x_t$ drawn from a probability distribution for every agent as well as an ex-ante known wage and interest rate level $w_t$ and $r_t$ respectively, agents decide whether to become workers or enterpreneurs. If they decide to become a worker, they get the wage rate $w_t$ as income (we assume perfect competition in the labor and capital market). Else, their income is the result of the enterpreneural optimization problem. This enterpreneural problem is particularly interesting as it includes a capital restriction: If the level of optimal capital employment exceeds the bequest of agent $i$, he can borrow additional funds on the capital market. However, there are capital market imperfections that the model explicitly accounts for. Next, given the capital supply (the sum over all bequests minus the amount of capital used in production) and labor supply (agents that choose to become workers) in period $t$, next period's wage and interest rate are determined by means of a market clearing condition.\n",
    "\n",
    "This procedure is repeated over multiple periods, resulting (the proofs can be found in the papers listed above) in a steady state wage rate, interest rate and bequest distribution. As other papers using the same model setup do not present further information about the steady state bequest distribution, I am particularly interested in the shape of the steady state distribution and the overall sum of steady state bequests resulting from different calibrations. \n"
   ]
  },
  {
   "cell_type": "markdown",
   "metadata": {},
   "source": [
    "## Financial frictions"
   ]
  },
  {
   "cell_type": "markdown",
   "metadata": {},
   "source": [
    "The financial friction parameters are $\\tau$ and $\\phi$, whereas $\\tau$ is a markup on per-unit capital costs if funds must be borrowed. $\\phi$ is the so-called enforcement parameter that represents the legal enforcability of borrowers' claims. If this enforcability is very low, $\\phi$ is close to zero. If it is high, $\\phi$ is close to one. The second financial friction enters the optimization problem by a linear constraint that ensures that the total costs of borrowing must be smaller then a fraction $\\phi$ of potential enterpreneural returns.\n"
   ]
  },
  {
   "cell_type": "markdown",
   "metadata": {},
   "source": [
    "## The research question"
   ]
  },
  {
   "cell_type": "markdown",
   "metadata": {},
   "source": [
    "In this project work, I will investigate for possible differences in the steady state bequest distributions across different values for the financial friction parameters. This is extremely important to e.g. understand cross-country differences in the share of enterpreneurs inside a society, the overall wealth of a society and distributional differences in bequests and incomes. To some extent, these issues can be addressed by financial frictions. I define a  <a href='#scenario1'>baseline regime</a> analogous to Antunes et al. (2008), a <a href='#scenario2'>good state regime</a> and a <a href='#scenario2'>bad state regime</a>. Additionally, I will provide time paths of wage and interest rate and the share of enterpreneurs across the whole population per scenario. My research question is: How do interest rate, wage, the bequest distribution, the sum over all bequests and the share of enterpreneurs change over the three different financial friction regimes?"
   ]
  },
  {
   "cell_type": "markdown",
   "metadata": {},
   "source": [
    "## Main assumptions "
   ]
  },
  {
   "cell_type": "markdown",
   "metadata": {},
   "source": [
    "\n",
    "1) Utility function satisfies INADA conditions\n",
    "\n",
    "2) Profit function calibrated such that there is scope for 10 % enterpreneural profit.\n",
    "\n",
    "3) Perfect competition on capital and labor markets. Wage and interest rate are equal to the marginal product of labor and capital respectively.\n"
   ]
  },
  {
   "cell_type": "markdown",
   "metadata": {},
   "source": [
    "## A sneak peek into the results"
   ]
  },
  {
   "cell_type": "markdown",
   "metadata": {},
   "source": [
    "The main results are:\n",
    "    \n",
    "- The heavier the financial frictions, the lower the overall sum of bequests.\n",
    "\n",
    "- The interest rate is higher when there are less financial frictions. The wage is hardly affected.\n",
    "\n",
    "- Model outcomes seem to become more volatile as the number of economic agents in the model decreases."
   ]
  },
  {
   "cell_type": "markdown",
   "metadata": {},
   "source": [
    "## Final notes"
   ]
  },
  {
   "cell_type": "markdown",
   "metadata": {},
   "source": [
    "As Antunes et al. (2008b) hardly provide simulation results for their model calibration and as I use a different method to solve the model (I rely on <a href='#solving'> round-by-round solutions</a> of all maximization and root finding problems, looping over an ex-ante defined number of time periods until the steady state is reached), I cannot compare my calculations with benchmark simulation results. Additionally, as I solve the presented model in a purely numerical manner, there might be rounding errors in the results.\n",
    "\n",
    "A further issue I must address is non-convergence in the results. Given the random talent distribution realizations per period, results sometimes convergence, however sometimes they do not. I will provide results for the case the algorihm converges. If the algorithm does not converge, I invite you, dear supervisor of this script, to re-execute the commands. In this case, the algorithm prints out \"non-convergence\". A phenomenon I observe in every execution is a \"RuntimeWarning: invalid value encountered in double_scalars\" printed out by the python console. However, this does not affect the algorithm convergence.\n",
    "\n",
    "The following script explains both the theoretical background and the algorithm steps to solve the model."
   ]
  },
  {
   "cell_type": "markdown",
   "metadata": {},
   "source": [
    "## Packages to import"
   ]
  },
  {
   "cell_type": "markdown",
   "metadata": {},
   "source": [
    "I use the following packages in this script:"
   ]
  },
  {
   "cell_type": "code",
   "execution_count": 98,
   "metadata": {
    "collapsed": true
   },
   "outputs": [],
   "source": [
    "import scipy as sc\n",
    "from scipy import optimize\n",
    "import numpy as np\n",
    "import matplotlib.pyplot as plt\n",
    "from __future__ import division"
   ]
  },
  {
   "cell_type": "markdown",
   "metadata": {},
   "source": [
    "## Utility maximization problem <a id='Utility maximization problem'></a>"
   ]
  },
  {
   "cell_type": "markdown",
   "metadata": {},
   "source": [
    "An economic agent lives for one period $t$. During his lifetime, he decides how much to consume and how much of his income to pass to the next generation. An economic agent and all his offsprings are defined as agent $i$. The utility optimization problem for agent i for every period $t$ is $$ max_{b_{t+1}^i, c_{t}^i } u(b,c) = (b_{t+1}^i)^{\\gamma} (c_{t}^i)^{1 - \\gamma}$$ subject to the budget constraint  $$ b_{t+1}^i + c_{t}^i \\leq y_{t}^i $$, whereas the consumption good is a numeraire. \n",
    "This yields the optimal solutions: $$(b_{t+1}^i)^* =(1 - \\gamma) y_t $$ and $$(c_{t}^i)^* = \\gamma y_t $$,\n",
    "\n",
    "where $ b_{t+1} $ is the bequest for i's offspring, $c_t$ is the agent's consumption in period $t$ and $y_t$ is the income of the agent in $t$. The code below defines the optimial solution for the bequest, as I later need this function in my program. The parameter $a$ replaces the theoretical parameter $1- \\gamma$"
   ]
  },
  {
   "cell_type": "code",
   "execution_count": 99,
   "metadata": {
    "collapsed": true
   },
   "outputs": [],
   "source": [
    "def optimal_bequest(inc):\n",
    "    y = a * inc\n",
    "    return y "
   ]
  },
  {
   "cell_type": "markdown",
   "metadata": {},
   "source": [
    "## Enterpreneural optimization problem <a id='Enterpreneural optimization problem'></a>"
   ]
  },
  {
   "cell_type": "markdown",
   "metadata": {},
   "source": [
    "If an agent decides to become an enterpreneur, his income is determined by the enterpreneural profit function. An enterpreneur's optimization problem has two arguments to maximize for. This problem in terms of labor supply is:\n",
    "\n",
    "$$ max_n \\Pi_{t}^i (k_{t}^i, x_{t}^i, w_t) = x_{t}^i (k_{t}^i)^\\alpha (n_{t}^i)^\\beta - wn_{t}^i $$,\n",
    "\n",
    "where $w$ is the wage rate, $n$ is the labor input, $k$ is the capital input and $x$ is the enterpreneural talent.\n",
    "\n",
    "This yields the optimal labor input: $$ (n_{t}^i)^* = \\left(\\frac{\\beta x_{t}^i (k_{t}^i)^\\alpha}{w_t} \\right)^{\\frac{1}{1 - \\beta}}  $$\n",
    "\n",
    "Plugging this result into the profit function yields:\n",
    "\n",
    "$$ \\Pi_{t}^i (k_{t}^i, x_{t}^i, w_t) = (1- \\beta) (x_{t}^i (k_{t}^i)^\\alpha )^{\\frac{1}{1 - \\beta}} \\left(\\frac{\\beta}{w_t} \\right)^{\\frac{\\beta}{1 - \\beta}}  $$\n",
    "\n",
    "The code below defines the function above in Python."
   ]
  },
  {
   "cell_type": "code",
   "execution_count": 100,
   "metadata": {
    "collapsed": true
   },
   "outputs": [],
   "source": [
    "def Profit(talent, capital, wage):\n",
    "    p = (1- beta)*(talent * capital**alpha)**(1/(1-beta)) * (beta/wage)**(beta/(1-beta)) \n",
    "    return p"
   ]
  },
  {
   "cell_type": "markdown",
   "metadata": {},
   "source": [
    "An enterpreuner can use his bequest to self-finance his firm. Define $a_{t}^i$ as the amount of agent i in period t invested by self-finance, i.e. by the bequest and $l_{t}^i$ as the amount of external finance. I define $ k_{t}^i = a_{t}^i + l_{t}^i $.\n",
    "If an enterpreneur is unconstrained, i.e. he does not externally borrow as $(a_{t}^i)^* \\leq b_{t}^i $, his optimization problem is:\n",
    "$$ max_{a_{t}^i} \\Pi_{t}^i (k_{t}^i, x_{t}^i, w_t) = (1- \\beta) (x_{t}^i (k_{t}^i)^\\alpha )^{\\frac{1}{1 - \\beta}} \\left(\\frac{\\beta}{w_t} \\right)^{\\frac{\\beta}{1 - \\beta}} -(1+r_t)a_{t}^i $$ \n",
    "\n",
    "where $r$ is the interest rate. In this case, the optimum level of capital and the level of capital agent $i$ invests in his firm is:\n",
    "\n",
    "$$ (a_{t}^i)^* =\\left(x_{t}^i \\left(\\frac{\\beta}{w_t} \\right)^\\beta \\left(\\frac{\\alpha}{1+r_t} \\right)^{1-\\beta} \\right)^{\\frac{1}{1-\\alpha-\\beta}} $$ \n",
    "\n",
    "However, if $(a_{t}^i)^* > b_{t}^i $, an agent cannot self-finance his firm and the enterpreneurs optimization problem becomes:\n",
    "\n",
    "$$ max_{a_{t}^i,l_{t}^i} \\Pi_{t}^i (k_{t}^i, x_{t}^i, w_t) = (1- \\beta) (x_{t}^i (k_{t}^i)^\\alpha )^{\\frac{1}{1 - \\beta}} \\left(\\frac{\\beta}{w_t} \\right)^{\\frac{\\beta}{1 - \\beta}} -(1+r_t)a_{t}^i - (1+r_t+ \\tau)l_{t}^i $$\n",
    "\n",
    "subject to the previously introduced enforcement constraint:\n",
    "\n",
    "$$ (1+r+\\tau)l_i \\leq \\phi \\Pi_i (a_i, l_i, x_i, w) $$\n",
    "\n",
    "and the self-finance constraint:\n",
    "\n",
    "$$(a_{t}^i)^* \\leq b_{t}^i $$\n",
    "\n",
    "The code below implements the unrestricted optimal level of self-financed capital and the optimum level of labor into Python:"
   ]
  },
  {
   "cell_type": "code",
   "execution_count": 101,
   "metadata": {
    "collapsed": true
   },
   "outputs": [],
   "source": [
    "def a_opt(talent, wage, interest_rate):\n",
    "    p = (talent*(beta/wage)**beta * (alpha/(1 + interest_rate))**(1-beta))**(1/(1-alpha-beta))\n",
    "    return p\n",
    "\n",
    "def n_opt(talent, wage, cap_opt):\n",
    "    p = ((beta*talent*cap_opt**alpha)/wage)**(1/(1-beta))\n",
    "    return p "
   ]
  },
  {
   "cell_type": "markdown",
   "metadata": {},
   "source": [
    "In the window below, I first program the unconstrained capital profit function. Second, I use the scipy. optimize package and the fminbound function to maximize the negative profit function with respect to capital. The function optimal_capital_unconstrained calculates the inner solution for the optimum level of capital. The function optimal_profit_unconstrained computes the profit when plugging in the optimal capital level in the profit function."
   ]
  },
  {
   "cell_type": "code",
   "execution_count": 102,
   "metadata": {
    "collapsed": true
   },
   "outputs": [],
   "source": [
    "def profit_unconstrained(talent, capital, wage, interest_rate):\n",
    "    p = (1- beta)*((talent *  capital**alpha)**(1/(1-beta))) * ((beta/wage)**(beta/(1-beta))) - (1+ interest_rate)*capital\n",
    "    return p\n",
    "\n",
    "def optimal_capital_unconstrained(talent,  wage, interest_rate):\n",
    "    q1 =  sc.optimize.fminbound(lambda capital: -profit_unconstrained(talent, capital, wage, interest_rate),0,1000)\n",
    "    return q1\n",
    "\n",
    "def optimal_profit_unconstrained(talent,  wage, interest_rate):\n",
    "    p = (1- beta)*(talent * optimal_capital_unconstrained(talent, wage, interest_rate)**alpha)**(1/(1-beta)) * (beta/wage)**(beta/(1-beta)) - (1+ interest_rate)*optimal_capital_unconstrained(talent, wage, interest_rate)\n",
    "    return p"
   ]
  },
  {
   "cell_type": "markdown",
   "metadata": {},
   "source": [
    "In the window below, I program the much more complicated constrained optimization problem. First, in the Profit_constrained function, I define the profit function of the constrained optimization problem. The function optimal_capital_constrained uses the minimize function of scipy to calculate the optimal level of self-finance and the optimal level of borrowing. The function minimize needs a vector input, such that I implement $a$ and $l$ in the Profit_constrained function as a vector called \"cap\". Additionally, I program the previously introduced constraints as \"cons1\" and \"cons2\", bundling them in a dictionary called \"cons\". The output of the function is a vector consisting of the optimal level of self-finance and borrowing. The function \"optimal_profit_unconstrained\" computes the profit of the constrained profit function when plugging in the optimum capital vector in the profit function."
   ]
  },
  {
   "cell_type": "code",
   "execution_count": 103,
   "metadata": {
    "collapsed": true,
    "scrolled": true
   },
   "outputs": [],
   "source": [
    "def Profit_constrained(cap, talent, wage, interest_rate):\n",
    "    p = (1- beta) * (talent * (cap[0]+cap[1])**alpha)**(1/(1-beta)) * (beta/wage)**(beta/(1-beta)) - (1+interest_rate)*cap[0] - (1+interest_rate+tau)*cap[1]\n",
    "    return p\n",
    "\n",
    "\n",
    "def optimal_capital_constrained(bequest, talent, wage, interest_rate):\n",
    "    \n",
    "    def cons1(cap, bequest):\n",
    "            p = bequest - cap[0] -  0*cap[1]\n",
    "            return p \n",
    "\n",
    "    def cons2(cap, talent, wage, interest_rate):\n",
    "            p = phi*Profit_constrained(cap, talent, wage, interest_rate) - (1+interest_rate+tau)*cap[1]\n",
    "            return p\n",
    "    \n",
    "    cons = ({'type': 'ineq', 'fun': lambda cap: cons1(cap,bequest)}, \n",
    "            {'type': 'ineq', 'fun': lambda cap: np.array([cons2(cap, talent, wage, interest_rate)])})\n",
    " \n",
    "    bnds = ((0, 100), (0, 100))\n",
    " \n",
    "    res =  sc.optimize.minimize(lambda cap: -Profit_constrained(cap,talent,wage,interest_rate),\n",
    "                                x0 = [2,2],\n",
    "                                constraints=cons, \n",
    "                                method='SLSQP',bounds = bnds)\n",
    "    return res.x\n",
    "\n",
    "def optimal_profit_constrained(bequest,talent, wage, interest_rate): \n",
    "    return Profit_constrained(optimal_capital_constrained(bequest, talent, wage, interest_rate),talent,wage,interest_rate)\n",
    "\n"
   ]
  },
  {
   "cell_type": "markdown",
   "metadata": {},
   "source": [
    "## Occupational choice <a id='Occupational choice'></a>"
   ]
  },
  {
   "cell_type": "markdown",
   "metadata": {},
   "source": [
    "The next window contains the core body of my algorithm. It computes the occupational choice of an economic agent, i.e. it determines whether an economic agent becomes a worker or an enterpreneur. The basic idea is, given $x_{t}^i$, $b_{t}^i$ and the initial wage and interest rate $w_t$ and $r_t$, an agent simply compares his potential enterpreneural return and the wage rate.\n",
    "If $$\\Pi_{t}^i (b_{t}^i,  x_{t}^i, w_t, r_t) \\geq w_t$$,\n",
    "\n",
    "the agent chooses to become an enterpreneur. Else if  $$\\Pi_{t}^i (b_{t}^i,  x_{t}^i, w_t, r_t) < w_t$$, the agent chooses to become a worker. First, I compute the potential enterpreneural profit of every agent and safe it in a np.array called income. Second, for every agent I compare whether his/ her enterpreneural profit is smaller than the wage rate. If yes, the agent chooses to become a worker. If no, the agent \"stays\" an enterpreneur. Additionally, I compute dichotomous variables indicating whether an agent is an enterpreneur or not, and whether he is a capital constrained or a capital unconstrained enterpreneur. "
   ]
  },
  {
   "cell_type": "code",
   "execution_count": 366,
   "metadata": {
    "collapsed": true,
    "scrolled": false
   },
   "outputs": [],
   "source": [
    "def program_loop(bequests,talents,wage,interest_rate):\n",
    "    #initialize variables\n",
    "    income = np.array([])\n",
    "    ent_unc_indicator = np.array([])\n",
    "    ent_con_indicator = np.array([])\n",
    "    wor_indicator = np.array([])\n",
    "    ent_indicator = np.ones(len(bequests))\n",
    "    \n",
    "    #compute enterpreneural profits\n",
    "    for i in range(len(talents)):\n",
    "        if bequests[i] >= a_opt(talents[i] , wage, interest_rate):\n",
    "            income = np.append(income, optimal_profit_unconstrained(talents[i],wage,interest_rate))\n",
    "            ent_unc_indicator = np.append(ent_unc_indicator,1)\n",
    "            wor_indicator = np.append(wor_indicator,0)\n",
    "            ent_con_indicator = np.append(ent_con_indicator,0)\n",
    "            ent_indicator[i] = 1\n",
    "        else:\n",
    "            income = np.append(income, optimal_profit_constrained(bequests[i],talents[i],wage,interest_rate))\n",
    "            ent_unc_indicator = np.append(ent_unc_indicator,0)\n",
    "            wor_indicator = np.append(wor_indicator,0)\n",
    "            ent_con_indicator = np.append(ent_con_indicator,1)\n",
    "            ent_indicator[i] = 1\n",
    "    #compare with wage \n",
    "    for i in range(len(talents)):\n",
    "        if income[i] < wage:\n",
    "            income[i] = wage\n",
    "            ent_con_indicator[i] = 0\n",
    "            ent_unc_indicator[i] = 0\n",
    "            wor_indicator[i] = 1\n",
    "            ent_indicator[i] = 0\n",
    "    return income, ent_unc_indicator, wor_indicator, ent_con_indicator, ent_indicator"
   ]
  },
  {
   "cell_type": "markdown",
   "metadata": {},
   "source": [
    "## Market clearing conditions <a id='Market clearing conditions'></a>"
   ]
  },
  {
   "cell_type": "markdown",
   "metadata": {},
   "source": [
    "The last part of the program determines the equilibria in the capital and labor market. Let $\\iota_{wor}$ and $\\iota_{ent}$ be dichotomous variables indicating whether an agent is a worker or an enterpreneur respectively. Additionally, let $k(x_{t}^i, n_{t}^i, w_t, r_t)$ and $n(x_{t}^i, n_{t}^i, w_t, r_t)$ be the optimum level of capital and optimum level of labor employed by agent i in production.\n",
    "The next periods's wage and interest rate tupel $(w_t,r_t)$ is determined by solving the non-linear equation system with respect to interest rate and wage:\n",
    "$$ \\sum_{i=1}^n  (\\iota_{wor} - \\iota_{ent} \\times n(x_{t}^i, n_{t}^i, w_t, r_t)) = 0 $$\n",
    "$$   \\sum_{i=1}^n  (b_{t}^i - \\iota_{ent} \\times k(x_{t}^i, n_{t}^i, w_t, r_t)) = 0$$\n",
    "   \n",
    "This I do by first translating both equations above into Python (by the functions \"labor_marketclearing\" and \"capital_marketclearing\"), building a vectorized function \"func\" out of both and then using the scipy function \"root\".\n",
    "\n",
    "\n",
    "All other functions are of technical nature. To avoid excessive fluctuations, Antunes et al (2008a, 2008b) smooth the time paths of interest rate and wage. Let us first define \n",
    "\n",
    "$$X_t = \\frac{ \\sum_{i=1}^n  \\iota_{wor} - \\iota_{ent}  n(x_{t}^i, n_{t}^i, w_t, r_t)}{\\sum_{i=1}^n  \\iota_{wor}}$$\n",
    "as the average excess labor supply in period $t$ and \n",
    "$$ Y_t = \\frac{ \\sum_{i=1}^n  b_{t}^i - \\iota_{ent} k(x_{t}^i, n_{t}^i, w_t, r_t)}{\\sum_{i=1}^n  b_{t}^i} $$\n",
    "\n",
    "as the excess capital supply as a fraction of total wealth.\n",
    " \n",
    "Assume the wage and interest rate transition function to be:\n",
    "\n",
    "$$ w_{t+1} = w_{t} + \\sigma \\times a_1 \\times X_t$$\n",
    "and\n",
    "$$r_{t+1} = r_{t} + \\sigma \\times a_2 \\times Y_t$$\n",
    "\n",
    "\n",
    "\n",
    "The last vector consists of the average labor excess and capital excess as a fraction of total wealth across agents in time $t$. $\\sigma$ is a smoothing parameter and  is in a range between zero and one. The parameter $a_1$ and $a_2$ must be chosen such that they reflect the dynamics of the non-smoothed time path of wage and interest rate. Thus, given $\\sigma = 1$, i calculate both parameters given the following rule:\n",
    "\n",
    "\n",
    "$$ a_1 = \\frac{ w_{t+1}(\\sigma = 1) - w_{t}}{{X_t}} $$\n",
    "\n",
    "and\n",
    "\n",
    "$$ a_2 = \\frac{r_{t+1}(\\sigma = 1) - r_{t}}{Y_t} $$\n",
    "\n",
    "\n",
    "whereas $  w_{t+1}(\\sigma = 1) $ and $ r_{t+1}(\\sigma = 1)$ can be found by using the \"root\" function as explained above. Given that  $ 0 < \\sigma < 1$, this procedure leads to adequat smoothing out of erratic wage and interest rate dynamics. \n",
    "\n",
    "The function \"av_func\" creates $X_t$ and $Y_t$, the function \"clear_all\" calculates $  w_{t+1}(\\sigma = 1) $ and $ r_{t+1}(\\sigma = 1)$. Finally, the function \"converge\" calculates the parameter $ a_1$ and  $ a_2$.\n",
    "\n"
   ]
  },
  {
   "cell_type": "code",
   "execution_count": 105,
   "metadata": {
    "collapsed": true
   },
   "outputs": [],
   "source": [
    "def labor_marketclearing(bequests,talents, wage, interest_rate,ent_indicator_1, wor_indicator_1):\n",
    "    labor_clearing = []\n",
    "    for i in range(len(talents)):\n",
    "        if ent_indicator_1[i] == 1:\n",
    "                p = -n_opt(talents[i], wage, sum(optimal_capital_constrained(bequests[i],talents[i],wage, interest_rate)))\n",
    "                labor_clearing.append(p)\n",
    "        elif wor_indicator_1[i] ==1:\n",
    "                p = 1\n",
    "                labor_clearing.append(p)\n",
    "    return sum(labor_clearing)\n",
    "\n",
    "def cap_marketclearing(bequests, talents, wage, interest_rate,ent_indicator_1, wor_indicator_1):\n",
    "    capital_clearing = []\n",
    "    for i in range(len(talents)):\n",
    "        if ent_indicator_1[i] == 1:\n",
    "                p = bequests[i] - sum(optimal_capital_constrained(bequests[i],talents[i],wage, interest_rate))\n",
    "                capital_clearing.append(p)\n",
    "        elif wor_indicator_1[i] ==1:\n",
    "                p = bequests[i]\n",
    "                capital_clearing.append(p)\n",
    "    return sum(capital_clearing)\n",
    "\n",
    "\n",
    "def func(prices,bequests, talents, ent_indicator_1, wor_indicator_1):\n",
    "    \n",
    "    wage = prices[0]\n",
    "    interest_rate = prices[1]\n",
    "    \n",
    "    F = np.empty(2)\n",
    "    F[0] = labor_marketclearing(bequests, talents, wage, interest_rate, ent_indicator_1, wor_indicator_1)\n",
    "    F[1] = cap_marketclearing(bequests, talents, wage, interest_rate, ent_indicator_1, wor_indicator_1)\n",
    "    return F\n",
    "\n",
    "def clear_all(prices,bequests, talents, ent_indicator_1, wor_indicator_1): \n",
    "    \n",
    "    res = sc.optimize.root(func, args = (bequests,talents, ent_indicator_1, wor_indicator_1) , method = 'lm',tol=0.00002,x0 = (0.04,0.04))\n",
    "    return res.x\n",
    "\n",
    "def avfunc(prices,bequests, talents, ent_indicator_1, wor_indicator_1):\n",
    "    \n",
    "    wage = prices[0]\n",
    "    interest_rate = prices[1]\n",
    "    \n",
    "    F = np.empty(2)\n",
    "    F[0] = labor_marketclearing(bequests, talents, wage, interest_rate, ent_indicator_1, wor_indicator_1)/sum(wor_indicator_1)\n",
    "    F[1] = cap_marketclearing(bequests, talents, wage, interest_rate, ent_indicator_1, wor_indicator_1)/sum(bequests)\n",
    "    return F\n",
    " \n",
    "\n",
    "def converge(prices,bequests,talents, new_prices,avlabor,avcapital,ent_indicator_1, wor_indicator_1):\n",
    "    \n",
    "    wage = prices[0]\n",
    "    interest_rate = prices[1]\n",
    "    w = new_prices[0]\n",
    "    r = new_prices[1]\n",
    "    \n",
    "    p = np.empty(2)\n",
    "    p[0] = (w - wage)/avlabor\n",
    "    p[1] = (r - interest_rate)/avcapital\n",
    "    \n",
    "    return p"
   ]
  },
  {
   "cell_type": "markdown",
   "metadata": {},
   "source": [
    "## Income and bequest"
   ]
  },
  {
   "cell_type": "markdown",
   "metadata": {},
   "source": [
    "Finally, I need to generate the income for agent $i$ and the resulting next period's bequest for every agent and his/ her offspring $i$ in period $t$. For this purpose, I use the income vector generated by \"program_loop\". Formally, the income $y_{t}^i$ of every agent is defined as: \n",
    "\n",
    "$$ y_{t}^i =  max \\{ \\Pi_{t}^i (b_{t}^i,  x_{t}^i, w_t, r_t),  w_t \\}  + (1+ r_t) b_{t}^i$$\n",
    "\n",
    "Agent $i$'s income is thus first determined by the occupational choice and second by the amount of bequest of agent $i$. If this agent is a worker, he can invest his bequest into other enterpreneural projects, getting a capital return of $(1+r_t) b_{i}^t$. If he/ she is an enterpreneur, he/ she gets the capital return of his/ her bequest invested in the own enterpreneural project, which is also equal to $(1+r_t) b_{i}^t$. This function is implemented by the function \"generate_income\".\n",
    "\n",
    "The bequest agents transfer to their offsprings is defined by the optimal bequest function determined by the utility maximization problem. I calculate this bequest, $b_{t+1}^i$ as:\n",
    "\n",
    "$$ b_{t+1}^i = (1-  \\gamma ) y_{t}^i $$\n",
    "\n",
    "This is done by the function \"generate_bequest\"."
   ]
  },
  {
   "cell_type": "code",
   "execution_count": 106,
   "metadata": {
    "collapsed": true
   },
   "outputs": [],
   "source": [
    "def generate_income(income,bequests,interest_rate):\n",
    "        new_income = np.array([])\n",
    "        for i in xrange(number_agents):\n",
    "            new_income = np.append(new_income, income[i] + (1+interest_rate)*bequests[i])       \n",
    "        return new_income   \n",
    "    \n",
    "def generate_bequest(income):\n",
    "        new_bequest = np.array([])\n",
    "        for i in xrange(number_agents):\n",
    "            new_bequest = np.append(new_bequest, optimal_bequest(income[i]))   \n",
    "        return new_bequest"
   ]
  },
  {
   "cell_type": "markdown",
   "metadata": {},
   "source": [
    "# Solving the model <a id='solving'></a>"
   ]
  },
  {
   "cell_type": "markdown",
   "metadata": {},
   "source": [
    "I now construct and solve the model by means of the functions I created above. The function \"simulation\" which can be found below establishes a dynamic loop over the different steps programmed in the previous script. For a better understanding, I annotated the code. The loop ends if an ex-ante defined condition is found to be true. That is, two subsequent wage rates and two subsequent interest rates must not deviate from each other by more than $1 \\%$. This I define to be the steady state of the model. Additionally, there might be the case that the algorithm does not stop due to the first criterium. In this case, I define the state of the model reached after $40$ periods of time to be a good approximation for the steady state.\n",
    "\n",
    "The talents are drawn from a cumulative exponential distribution of the form $F(x) = x^{\\frac{1}{4.422}}$ (analogous to Antunes et al. (2008b). As an initial bequest distribution, I choose a uniform distribution with $0.3$ units of initial capital endowment for each agent.\n",
    "\n",
    "The initial wage $w_0$ and initial interest rate $r_0$ are chosen to be 0.3.\n",
    "\n"
   ]
  },
  {
   "cell_type": "code",
   "execution_count": 292,
   "metadata": {
    "collapsed": true
   },
   "outputs": [],
   "source": [
    "def simulation(number_agents,w0,r0,b0=0.3, tol = 0.01, max_t_loops=40):\n",
    "    \n",
    "    #initialization of variables\n",
    "    \n",
    "    \n",
    "\n",
    "    w = np.zeros(max_t_loops+1)\n",
    "    r = np.zeros(max_t_loops+1)\n",
    "    wstar = np.zeros(max_t_loops)\n",
    "    rstar = np.zeros(max_t_loops)\n",
    "\n",
    "    income_1  = np.zeros(shape = (max_t_loops,number_agents))\n",
    "    ent_unc_indicator_1 = np.zeros(shape = (max_t_loops,number_agents))\n",
    "    wor_indicator_1 = np.zeros(shape = (max_t_loops,number_agents))\n",
    "    ent_con_indicator_1 = np.zeros(shape = (max_t_loops,number_agents))\n",
    "    ent_indicator_1 = np.zeros(shape = (max_t_loops,number_agents))\n",
    "    \n",
    "    ndincome =  np.zeros(shape = (max_t_loops,number_agents))\n",
    "    ndtalents = np.zeros(shape = (max_t_loops,number_agents))\n",
    "    ndbequests = np.zeros(shape = (max_t_loops+1,number_agents))\n",
    "    entind = np.zeros(max_t_loops) \n",
    "\n",
    "    \n",
    "    #Loop the program over time\n",
    "\n",
    "    t=1\n",
    "    while True: \n",
    "        print t\n",
    "        \n",
    "        #Determine talent dist. per period\n",
    "        ndtalents[t,:]=np.random.power(1/4.422,number_agents)\n",
    "        #determine initial bequest dist.\n",
    "        ndbequests[1,:].fill(b0)\n",
    "        #determine initial wage and ir\n",
    "        w[1] = w0\n",
    "        r[1] = r0\n",
    "\n",
    "        #occupational choice\n",
    "        [income_1[t,:], ent_unc_indicator_1[t,:], wor_indicator_1[t,:],\n",
    "        ent_con_indicator_1[t,:], ent_indicator_1[t,:]] = program_loop(ndbequests[t,:], ndtalents[t,:],w[t],r[t])\n",
    "        \n",
    "        #find root of the labor and capital market clearing function\n",
    "        wstar[t], rstar[t] = clear_all([w[t], r[t]],ndbequests[t,:], ndtalents[t,:], ent_indicator_1[t,:], wor_indicator_1[t,:])\n",
    "        \n",
    "        #smooth the time paths of wage and interest rate\n",
    "        excess = np.ndarray(shape = (1, 2))\n",
    "        excess = avfunc([w[t],r[t]], ndbequests[t,:],ndtalents[t,:], ent_indicator_1[t,:], wor_indicator_1[t,:])\n",
    "\n",
    "        conv = np.ndarray(shape = (1, 2))\n",
    "        conv = converge([w[t],r[t]],ndbequests[t,:], ndtalents[t,:], [wstar[t], rstar[t]],excess[0],excess[1], ent_indicator_1[t,:], wor_indicator_1[t,:])\n",
    "\n",
    "        w[t+1] = w[t] + sigma* conv[0]*excess[0]\n",
    "\n",
    "        r[t+1] = r[t] + sigma* conv[1]*excess[1]\n",
    "        \n",
    "        #generate agents' income\n",
    "        ndincome[t,:] = generate_income(income_1[t,:],ndbequests[t,:],r[t])\n",
    "        \n",
    "        #generate next period's bequest distribution\n",
    "        ndbequests[t+1,:] = generate_bequest(ndincome[t,:])\n",
    "        \n",
    "        #determine share of enterpreneurs\n",
    "        entind[t]=sum(ent_indicator_1[t,:])/number_agents\n",
    "        \n",
    "        #stop loop condition\n",
    "        if abs((w[t+1]-w[t])/w[t])< tol and abs((r[t+1]-r[t])/r[t]) < tol:\n",
    "            print 'break'\n",
    "            print t\n",
    "            break\n",
    "            \n",
    "        if t == max_t_loops - 1:\n",
    "            break\n",
    "        \n",
    "        #define non-covergence\n",
    "        if r[t+1]>10:\n",
    "            print 'non-convergence'\n",
    "            break\n",
    "            \n",
    "        t+=1\n",
    "\n",
    "    #determine final loop number\n",
    "    nn=np.sum(w>0)\n",
    "    nn=nn+1\n",
    "    \n",
    "    #adjust the variables to final loop number\n",
    "    w = w[:nn]\n",
    "    r = r[:nn]\n",
    "    entind = entind[:nn]\n",
    "    \n",
    "\n",
    "    ndincome = ndincome[:nn,:]\n",
    "    ndtalents = ndtalents[:nn,:]\n",
    "    ndbequests = ndbequests[:nn,:]\n",
    "\n",
    "    return w, r,ndincome,ndbequests,entind,nn, wstar, rstar, income_1, ent_unc_indicator_1, wor_indicator_1, ent_con_indicator_1, ent_indicator_1"
   ]
  },
  {
   "cell_type": "markdown",
   "metadata": {},
   "source": [
    "## Baseline scenario - Calibration <a id='scenario1'></a>"
   ]
  },
  {
   "cell_type": "markdown",
   "metadata": {},
   "source": [
    "The next window shows the parameter calibration I use for the baseline scenario analogous to the calibration of Antunes et al. (2008b):\n",
    "\n",
    "\n",
    "$$a = (1-  \\gamma ) = 0.06$$\n",
    "$$b = \\gamma = 0.94$$  \n",
    "$$beta = \\beta = 0.55$$\n",
    "$$alpha = \\alpha = 0.35$$ \n",
    "$$phi = \\phi = 0.26$$\n",
    "$$tau = \\tau = 0.005 $$ \n",
    "\n",
    " \n",
    "\n",
    " \n",
    "\n",
    "  \n",
    "\n",
    "\n",
    "Additionally, I choose $\\sigma = 0.2 $. All parameter values except for $\\tau$ and $\\phi$ stay the same across all scenarios. For the sake of convenience, I calibrate the model with 500 agents. This is necessary to keep computational time in reasonable boundaries (At least for my Laptop).\n",
    "\n"
   ]
  },
  {
   "cell_type": "code",
   "execution_count": 334,
   "metadata": {
    "collapsed": true
   },
   "outputs": [],
   "source": [
    "phi = 0.26\n",
    "tau = 0.005\n",
    "a = 0.06\n",
    "\n",
    "beta = 0.55\n",
    "alpha = 0.35\n",
    "\n",
    "sigma = 0.2"
   ]
  },
  {
   "cell_type": "code",
   "execution_count": 335,
   "metadata": {},
   "outputs": [
    {
     "name": "stdout",
     "output_type": "stream",
     "text": [
      "1\n",
      "2\n",
      "3\n",
      "4\n",
      "5\n",
      "6\n",
      "7\n",
      "8\n",
      "9\n"
     ]
    },
    {
     "name": "stderr",
     "output_type": "stream",
     "text": [
      "C:\\Users\\Lukas\\Anaconda2\\lib\\site-packages\\ipykernel_launcher.py:2: RuntimeWarning: invalid value encountered in double_scalars\n",
      "  \n",
      "C:\\Users\\Lukas\\Anaconda2\\lib\\site-packages\\ipykernel_launcher.py:6: RuntimeWarning: invalid value encountered in double_scalars\n",
      "  \n"
     ]
    },
    {
     "name": "stdout",
     "output_type": "stream",
     "text": [
      "10\n",
      "11\n",
      "12\n",
      "13\n",
      "14\n",
      "15\n",
      "16\n",
      "17\n",
      "18\n",
      "19\n",
      "20\n",
      "21\n",
      "22\n",
      "23\n",
      "24\n",
      "break\n",
      "24\n"
     ]
    }
   ],
   "source": [
    "number_agents = 500\n",
    "w0=0.3\n",
    "r0=0.3\n",
    "w, r,ndincome,ndbequests,entind,nn, wstar, rstar, income_1, ent_unc_indicator_1, wor_indicator_1, ent_con_indicator_1, ent_indicator_1 = simulation(number_agents,w0,r0)"
   ]
  },
  {
   "cell_type": "code",
   "execution_count": 362,
   "metadata": {},
   "outputs": [
    {
     "data": {
      "image/png": "[encoded data removed]",
      "text/plain": [
       "<matplotlib.figure.Figure at 0xdd9abe0>"
      ]
     },
     "metadata": {},
     "output_type": "display_data"
    },
    {
     "name": "stdout",
     "output_type": "stream",
     "text": [
      "the steady state interest rate is: 0.61469762461\n",
      "the steady wage is: 0.0700768634325\n",
      "the share of enterpreneurs is :  0.092 for period 23 and 0.074 for period 24\n"
     ]
    },
    {
     "data": {
      "image/png": "[encoded data removed]",
      "text/plain": [
       "<matplotlib.figure.Figure at 0x10a617b8>"
      ]
     },
     "metadata": {},
     "output_type": "display_data"
    },
    {
     "data": {
      "image/png": "[encoded data removed]",
      "text/plain": [
       "<matplotlib.figure.Figure at 0xe12b198>"
      ]
     },
     "metadata": {},
     "output_type": "display_data"
    },
    {
     "data": {
      "image/png": "[encoded data removed]",
      "text/plain": [
       "<matplotlib.figure.Figure at 0xd95a898>"
      ]
     },
     "metadata": {},
     "output_type": "display_data"
    },
    {
     "name": "stdout",
     "output_type": "stream",
     "text": [
      "the steady state sum over all bequests is:  3.27812451101\n"
     ]
    }
   ],
   "source": [
    "plt.plot(r)\n",
    "axes = plt.gca()\n",
    "plt.ylabel('interest rate')\n",
    "plt.xlabel('time')\n",
    "axes.set_ylim([0,1])\n",
    "axes.set_xlim([1,nn-1])\n",
    "plt.show()\n",
    "\n",
    "print \"the steady state interest rate is:\", r[nn-1]\n",
    "print \"the steady wage is:\", w[nn-1]\n",
    "\n",
    "print 'the share of enterpreneurs is : ', entind[nn-3],'for period', nn-3, 'and', entind[nn-2], 'for period', nn-2 \n",
    "\n",
    "plt.plot(w)\n",
    "axes = plt.gca()\n",
    "plt.ylabel('wage')\n",
    "plt.xlabel('time')\n",
    "axes.set_ylim([0,1])\n",
    "axes.set_xlim([1,nn-1])\n",
    "plt.show()\n",
    "\n",
    "\n",
    "plt.hist(ndbequests[len(w)-1,:])\n",
    "plt.ylabel('number of agents')\n",
    "plt.xlabel('amount of bequest')\n",
    "axes.set_xlim([1,5])\n",
    "plt.show()\n",
    "\n",
    "sumbequests = []\n",
    "for i in xrange(len(ndbequests)):\n",
    "    \n",
    "    p = sum(ndbequests[i,:])\n",
    "    sumbequests.append(p)\n",
    " \n",
    "plt.plot(sumbequests)\n",
    "plt.ylabel('sum of bequests')\n",
    "plt.xlabel('time')\n",
    "axes = plt.gca()\n",
    "axes.set_ylim([-1,100])\n",
    "plt.show()\n",
    "\n",
    "print 'the steady state sum over all bequests is: ', sumbequests[nn-1]"
   ]
  },
  {
   "cell_type": "markdown",
   "metadata": {
    "collapsed": true
   },
   "source": [
    "# Solving the model: Better financial system scenario <a id='scenario2'></a>"
   ]
  },
  {
   "cell_type": "markdown",
   "metadata": {},
   "source": [
    "In this calibration, the financial frictions are relaxed. The new financial frictions parameters are:\n",
    "$$ \\phi = 2 \\times \\phi_{baseline}$$\n",
    "\n",
    "$$\\tau = \\frac{1}{2} \\times \\tau_{baseline} $$"
   ]
  },
  {
   "cell_type": "code",
   "execution_count": 337,
   "metadata": {
    "collapsed": true
   },
   "outputs": [],
   "source": [
    "phi = 0.52\n",
    "tau = 0.0025"
   ]
  },
  {
   "cell_type": "code",
   "execution_count": 338,
   "metadata": {},
   "outputs": [
    {
     "name": "stdout",
     "output_type": "stream",
     "text": [
      "1\n",
      "2\n",
      "3\n",
      "4\n",
      "5\n",
      "6\n"
     ]
    },
    {
     "name": "stderr",
     "output_type": "stream",
     "text": [
      "C:\\Users\\Lukas\\Anaconda2\\lib\\site-packages\\ipykernel_launcher.py:2: RuntimeWarning: invalid value encountered in double_scalars\n",
      "  \n",
      "C:\\Users\\Lukas\\Anaconda2\\lib\\site-packages\\ipykernel_launcher.py:6: RuntimeWarning: invalid value encountered in double_scalars\n",
      "  \n"
     ]
    },
    {
     "name": "stdout",
     "output_type": "stream",
     "text": [
      "7\n",
      "8\n",
      "9\n",
      "10\n",
      "11\n",
      "12\n",
      "13\n",
      "14\n",
      "15\n",
      "16\n",
      "17\n",
      "18\n",
      "19\n",
      "20\n",
      "21\n",
      "22\n",
      "23\n",
      "24\n",
      "25\n",
      "26\n",
      "27\n",
      "28\n",
      "29\n",
      "30\n",
      "31\n",
      "32\n",
      "33\n",
      "34\n",
      "35\n",
      "break\n",
      "35\n"
     ]
    }
   ],
   "source": [
    "number_agents = 500\n",
    "w0=0.3\n",
    "r0=0.3\n",
    "w2, r2,ndincome2,ndbequests2,entind2, nn2, wstar2, rstar2, income_2, ent_unc_indicator_2, wor_indicator_2, ent_con_indicator_2, ent_indicator_2 = simulation(number_agents,w0,r0, tol =0.01, max_t_loops=40)"
   ]
  },
  {
   "cell_type": "code",
   "execution_count": 363,
   "metadata": {},
   "outputs": [
    {
     "data": {
      "image/png": "[encoded data removed]",
      "text/plain": [
       "<matplotlib.figure.Figure at 0xf4244e0>"
      ]
     },
     "metadata": {},
     "output_type": "display_data"
    },
    {
     "name": "stdout",
     "output_type": "stream",
     "text": [
      "the steady state interest rate is: 1.57953032782\n",
      "the steady wage is: 0.0695911171302\n",
      "the share of enterpreneurs is :  0.092 for period 23 and 0.064 for period 24\n"
     ]
    },
    {
     "data": {
      "image/png": "[encoded data removed]",
      "text/plain": [
       "<matplotlib.figure.Figure at 0xff83b38>"
      ]
     },
     "metadata": {},
     "output_type": "display_data"
    },
    {
     "data": {
      "image/png": "[encoded data removed]",
      "text/plain": [
       "<matplotlib.figure.Figure at 0xddb0b00>"
      ]
     },
     "metadata": {},
     "output_type": "display_data"
    },
    {
     "data": {
      "image/png": "[encoded data removed]",
      "text/plain": [
       "<matplotlib.figure.Figure at 0xf29c2e8>"
      ]
     },
     "metadata": {},
     "output_type": "display_data"
    },
    {
     "name": "stdout",
     "output_type": "stream",
     "text": [
      "the steady state sum over all bequests is:  3.30759774738\n"
     ]
    }
   ],
   "source": [
    "plt.plot(r2)\n",
    "axes = plt.gca()\n",
    "plt.ylabel('interest rate')\n",
    "plt.xlabel('time')\n",
    "axes.set_ylim([0,1.8])\n",
    "axes.set_xlim([1,nn2-1])\n",
    "plt.show()\n",
    "\n",
    "print \"the steady state interest rate is:\", r2[nn2-1]\n",
    "print \"the steady wage is:\", w2[nn2-1]\n",
    "\n",
    "print 'the share of enterpreneurs is : ', entind2[nn2-3],'for period', nn-3, 'and', entind2[nn2-2], 'for period', nn-2 \n",
    "\n",
    "plt.plot(w2)\n",
    "axes = plt.gca()\n",
    "plt.ylabel('wage')\n",
    "plt.xlabel('time')\n",
    "axes.set_ylim([0,1])\n",
    "axes.set_xlim([1,nn2-1])\n",
    "plt.show()\n",
    "\n",
    "\n",
    "plt.hist(ndbequests2[len(w2)-1,:])\n",
    "plt.ylabel('number of agents')\n",
    "plt.xlabel('amount of bequest')\n",
    "axes.set_xlim([1,5])\n",
    "plt.show()\n",
    "\n",
    "sumbequests = []\n",
    "for i in xrange(len(ndbequests2)):\n",
    "    \n",
    "    p = sum(ndbequests2[i,:])\n",
    "    sumbequests.append(p)\n",
    " \n",
    "plt.plot(sumbequests)\n",
    "axes = plt.gca()\n",
    "plt.ylabel('sum of bequests')\n",
    "plt.xlabel('time')\n",
    "axes.set_ylim([-1,100])\n",
    "plt.show()\n",
    "\n",
    "print 'the steady state sum over all bequests is: ', sumbequests[nn2-1]"
   ]
  },
  {
   "cell_type": "markdown",
   "metadata": {
    "collapsed": true
   },
   "source": [
    "# The bad scenario <a id='scenario3'></a>"
   ]
  },
  {
   "cell_type": "markdown",
   "metadata": {},
   "source": [
    "In this scenario, financial frictions are tightened. The new financial frictions parameters are:\n",
    "$$ \\phi = \\frac{1}{2} \\times \\phi_{baseline}$$\n",
    "\n",
    "$$\\tau = 2 \\times \\tau_{baseline} $$\n",
    "\n",
    "As I know from previous executions that $w_{steady state} \\approx 0.07 $ and $r_{steady state} \\approx -0.1$ I choose $w_0 = r_0 = 0.05 $. This drastically reduces computation time."
   ]
  },
  {
   "cell_type": "code",
   "execution_count": 340,
   "metadata": {
    "collapsed": true
   },
   "outputs": [],
   "source": [
    "phi = 0.13\n",
    "tau = 0.01"
   ]
  },
  {
   "cell_type": "code",
   "execution_count": 341,
   "metadata": {},
   "outputs": [
    {
     "name": "stdout",
     "output_type": "stream",
     "text": [
      "1\n",
      "2\n",
      "3\n"
     ]
    },
    {
     "name": "stderr",
     "output_type": "stream",
     "text": [
      "C:\\Users\\Lukas\\Anaconda2\\lib\\site-packages\\ipykernel_launcher.py:2: RuntimeWarning: invalid value encountered in double_scalars\n",
      "  \n",
      "C:\\Users\\Lukas\\Anaconda2\\lib\\site-packages\\ipykernel_launcher.py:6: RuntimeWarning: invalid value encountered in double_scalars\n",
      "  \n"
     ]
    },
    {
     "name": "stdout",
     "output_type": "stream",
     "text": [
      "4\n",
      "5\n",
      "6\n",
      "7\n",
      "8\n",
      "9\n",
      "10\n",
      "11\n",
      "12\n",
      "13\n",
      "14\n",
      "15\n",
      "16\n",
      "17\n",
      "18\n",
      "19\n",
      "20\n",
      "21\n",
      "22\n",
      "23\n",
      "24\n",
      "25\n",
      "26\n",
      "27\n",
      "28\n",
      "29\n",
      "break\n",
      "29\n"
     ]
    }
   ],
   "source": [
    "number_agents = 500\n",
    "w0=0.05\n",
    "r0=0.05\n",
    "w3, r3,ndincome3,ndbequests3,entind3, nn3, wstar3, rstar3, income_3, ent_unc_indicator_3, wor_indicator_3, ent_con_indicator_3, ent_indicator_3 = simulation(number_agents,w0,r0, tol =0.01, max_t_loops=50)"
   ]
  },
  {
   "cell_type": "code",
   "execution_count": 365,
   "metadata": {},
   "outputs": [
    {
     "data": {
      "image/png": "[encoded data removed]",
      "text/plain": [
       "<matplotlib.figure.Figure at 0x10a726d8>"
      ]
     },
     "metadata": {},
     "output_type": "display_data"
    },
    {
     "name": "stdout",
     "output_type": "stream",
     "text": [
      "the steady state interest rate is: -0.0708825813769\n",
      "the steady wage is: 0.0667221965756\n",
      "the share of enterpreneurs is :  0.082 for period 23 and 0.09 for period 24\n"
     ]
    },
    {
     "data": {
      "image/png": "[encoded data removed]",
      "text/plain": [
       "<matplotlib.figure.Figure at 0xe344278>"
      ]
     },
     "metadata": {},
     "output_type": "display_data"
    },
    {
     "data": {
      "image/png": "[encoded data removed]",
      "text/plain": [
       "<matplotlib.figure.Figure at 0x10a56748>"
      ]
     },
     "metadata": {},
     "output_type": "display_data"
    },
    {
     "data": {
      "image/png": "[encoded data removed]",
      "text/plain": [
       "<matplotlib.figure.Figure at 0xdc0bfd0>"
      ]
     },
     "metadata": {},
     "output_type": "display_data"
    },
    {
     "name": "stdout",
     "output_type": "stream",
     "text": [
      "the steady state sum over all bequests is:  3.18194415233\n"
     ]
    }
   ],
   "source": [
    "plt.plot(r3)\n",
    "axes = plt.gca()\n",
    "plt.ylabel('interest rate')\n",
    "plt.xlabel('time')\n",
    "axes.set_ylim([-0.2,1])\n",
    "axes.set_xlim([1,nn3-1])\n",
    "plt.show()\n",
    "\n",
    "print \"the steady state interest rate is:\", r3[nn3-1]\n",
    "print \"the steady wage is:\", w3[nn3-1]\n",
    "\n",
    "print 'the share of enterpreneurs is : ', entind3[nn3-3], 'for period', nn-3 , 'and', entind3[nn3-2], 'for period', nn-2 \n",
    "\n",
    "plt.plot(w3)\n",
    "axes = plt.gca()\n",
    "plt.ylabel('wage')\n",
    "plt.xlabel('time')\n",
    "axes.set_ylim([0,1])\n",
    "axes.set_xlim([1,nn3-1])\n",
    "plt.show()\n",
    "\n",
    "\n",
    "plt.hist(ndbequests3[len(w3)-1,:])\n",
    "plt.ylabel('number of agents')\n",
    "plt.xlabel('amount of bequest')\n",
    "axes.set_xlim([1,5])\n",
    "plt.show()\n",
    "\n",
    "sumbequests = []\n",
    "for i in xrange(len(ndbequests3)):\n",
    "    \n",
    "    p = sum(ndbequests3[i,:])\n",
    "    sumbequests.append(p)\n",
    " \n",
    "plt.plot(sumbequests)\n",
    "axes = plt.gca()\n",
    "plt.ylabel('sum of bequests')\n",
    "plt.xlabel('time')\n",
    "axes.set_ylim([-1,100])\n",
    "plt.show()\n",
    "\n",
    "\n",
    "print 'the steady state sum over all bequests is: ', sumbequests[nn3-1]"
   ]
  },
  {
   "cell_type": "markdown",
   "metadata": {},
   "source": [
    "## Results"
   ]
  },
  {
   "cell_type": "markdown",
   "metadata": {
    "collapsed": true
   },
   "source": [
    "In this section I will briefly address the steady state wage and interest rate, the sum over all bequests and the share of enterpreneurs and compare these variables across the defined scenarios.\n",
    "\n",
    "My ex-ante expectations are that the tighter the financial regime:\n",
    "\n",
    "- the lower capital demand: This should result in a lower interest rate.\n",
    "- the lower enterpreneural returns: This should result in lower bequests.\n",
    "- the lower the share of enterpreneurs, as enterpreneural returns decrease with financial frictions and potentially becoming lower than the wage.\n",
    "\n",
    "In this analysis, I re-executed the code multiple times to get an impression to which values the model converges. In the vast majority of code executions, I get an \"invalid value in double_scalars\" error. As I can observe from the graphs, this error seems to have an impact on the time paths of wage and interest rate. However, this error does not prevent the variables from converting to the steady state.   Irrespective of the financial frictions parameter, the wage converges to a steady state in the interval between $0.065$ and $0.075$. The interest rate reacts strongly to the degree of financial frictions. In the baseline scenario, the interest rate converges to a level of around $0.6$. In the good scenario, the interest rate drastically increases, converging to a value around $1.6$. In the bad scenario, the steady state interest rate is even below zero, converging to a level around $-0.05$ to $-0.1$. It is interesting to see that the interest rate is high in a regime of financial unrestrictedness, whilst it decreases with increasing financial frictions. \n",
    "\n",
    "Concerning the bequest distributions, there is hardly any difference to observe between the different scenarios. The bequest intervals are identical. However, it seems that more agents have higher bequests as financial frictions decrease. Enterpreneurs' shares, however, do not fit into this picture: There is no tendency to observe that is in line with my expectations. This might be due to two issues: First, from the time paths of the variables entind, entind2 and entind3 (containing the relative shares of enterpreneurs per scenario), it is observable that the enterpreneural share is highly volatile in the interval from $4 \\% $ to $ 11 \\% $, such that this measure is hardly informative. Second, in my algorithm, the steady state bequest distribution is defined as the distribution in $t+1$, whilst the steady state enterpreneural shares are the shares calculated in $t$. This is due to the fact that the bequest distribution for $t+1$ is calculated in period $t$, for $t$ in $t-1$ and so on. This leads to time lags in the steady state variables, which might result in misleading conclusions.\n",
    "\n",
    "The final observation is that the sum over all bequests is highest in the good regime and lowest in the bad regime. The overall sum is around $3.27$ in the good scenario, $3.20$ in the baseline scenario and around $3.18$ in the bad scenario. This is in line with my expectations regarding the enterpreneural bequests.\n",
    "\n",
    "In the Assignment folder of my Github account, there is an additional python script called \"Assignment 1000\". In this script, I execute the algorithm of this model, however with 1000 agents and not 500. The results show hardly any difference between the steady state values for wage and interest rate calculated in this script. Other parameters such as the overall sum of bequests deviate as the number of agents is different. However, time paths of the wage and interest rate as well as all other time paths appear to be much more smoothed. I suppose that the higher the number of agents in this model, the smoother the convergence to the steady state. Especially the random choice of talents might be a source of instability when the number of agents is low. (Warning: It might take a lot of time to re-execute \"Assignment 1000\")."
   ]
  },
  {
   "cell_type": "markdown",
   "metadata": {},
   "source": [
    "## Conclusion"
   ]
  },
  {
   "cell_type": "markdown",
   "metadata": {},
   "source": [
    "In this script, I assess the implications of a dynamic general equilibrium model with an occupational choice and financial frictions extensions. In this context, the model can explain how financial frictions influence enterpreneural returns and, as a consequence, how many agents decide to become enterpreneurs. \n",
    "Implementing the model into Python, it can be observed that heavy financial frictions push down enterpreneural demand for capital, thereby drastically lowering the price for capital. Additionally, one can see that bequests are higher when financial frictions are on a modest level, as enterpreneural returns then become higher. \n",
    "My analysis is especially limited to the computational power of my computer which translates into a low chosen number of economic agents for which I can run the model. This leads to inflated erratic behaviour of the model's outcomes, partly making the results uninterpretable. I also need to question the definition of \"steady state\" in my model. The criteria I defined are straigtforward and easy to implement, however they might not be able to detect when the steady state is reached and when it is not. For the future, it might be more fruitful to employ a more elaborate definition for the numerical steady state of a model.\n",
    "\n",
    "The model is limited in the sense that it purely concentrates on income differences and bequests of agents with enterpreneural occupation. It would be a fruitful extension of the model to allow for more heterogeneity with regard to the economic agents with worker occupation. in such a scenario, income and bequest distributions could be studied more extinsively."
   ]
  },
  {
   "cell_type": "markdown",
   "metadata": {},
   "source": [
    "## References <a id='references'></a>"
   ]
  },
  {
   "cell_type": "markdown",
   "metadata": {},
   "source": [
    "[1] Antunes, A., Cavalcanti, T., & Villamil, A. (2008). Computing general equilibrium models with occupational choice and financial frictions. Journal of Mathematical Economics, 44(7), 553-568.\n",
    "\n",
    "[2] Antunes, A., Cavalcanti, T., & Villamil, A. (2008). The effect of financial repression and enforcement on entrepreneurship and economic development. Journal of Monetary Economics, 55(2), 278-297."
   ]
  }
 ],
 "metadata": {
  "kernelspec": {
   "display_name": "Python 2",
   "language": "python",
   "name": "python2"
  },
  "language_info": {
   "codemirror_mode": {
    "name": "ipython",
    "version": 2
   },
   "file_extension": ".py",
   "mimetype": "text/x-python",
   "name": "python",
   "nbconvert_exporter": "python",
   "pygments_lexer": "ipython2",
   "version": "2.7.13"
  }
 },
 "nbformat": 4,
 "nbformat_minor": 2
}
